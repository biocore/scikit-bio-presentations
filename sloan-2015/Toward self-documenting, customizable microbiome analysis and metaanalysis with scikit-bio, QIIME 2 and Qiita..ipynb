{
 "cells": [
  {
   "cell_type": "markdown",
   "metadata": {
    "slideshow": {
     "slide_type": "slide"
    }
   },
   "source": [
    "\n",
    "\n",
    "# Toward self-documenting, customizable microbiome analysis and metaanalysis with scikit-bio, QIIME 2 and Qiita.\n",
    "\n",
    "Greg Caporaso and Rob Knight\n",
    "\n",
    "**[Caporaso Lab](http://caporasolab.us), Northern Arizona University**\n",
    "\n",
    "**[Knight Lab](http://https://knightlab.ucsd.edu/), University of California San Diego**"
   ]
  },
  {
   "cell_type": "markdown",
   "metadata": {
    "slideshow": {
     "slide_type": "slide"
    }
   },
   "source": [
    "# QIIME"
   ]
  },
  {
   "cell_type": "markdown",
   "metadata": {
    "slideshow": {
     "slide_type": "fragment"
    }
   },
   "source": [
    "* Cited 2969 times (as of 16 July 2015) since publication."
   ]
  },
  {
   "cell_type": "markdown",
   "metadata": {
    "slideshow": {
     "slide_type": "fragment"
    }
   },
   "source": [
    "* Nearly monthly workshops, somewhere in the world."
   ]
  },
  {
   "cell_type": "markdown",
   "metadata": {
    "slideshow": {
     "slide_type": "fragment"
    }
   },
   "source": [
    "* Biggest issues:\n",
    " * Hard to install, command line interface is challenging for many users.\n",
    " * Workflows can be \"black boxes\".\n",
    " * ``my-favoriite-tool`` isn't available in QIIME"
   ]
  },
  {
   "cell_type": "markdown",
   "metadata": {
    "slideshow": {
     "slide_type": "slide"
    }
   },
   "source": [
    "## scikit-bio\n",
    "\n",
    "low-level, a bioinformatics *library* for data scientists, students, and bioinformatics software developers\n",
    "\n",
    "free, Sloan-funded companion text, *An Introduction to Applied Bioinformatics* available at [readIAB.org](http://www.readIAB.org)\n",
    "\n"
   ]
  },
  {
   "cell_type": "markdown",
   "metadata": {
    "slideshow": {
     "slide_type": "fragment"
    }
   },
   "source": [
    "\n",
    "## QIIME 2\n",
    "\n",
    "a stable and well-documented API and command line interface\n",
    " * enables self-documenting analysis, integration as a component of other systems, and plugin development\n",
    " * supports analysis in cloud and cluster environments\n",
    "\n",
    "\n"
   ]
  },
  {
   "cell_type": "markdown",
   "metadata": {
    "slideshow": {
     "slide_type": "fragment"
    }
   },
   "source": [
    "## Qiita\n",
    "\n",
    "end-user, browser-based environment for microbiome analysis and meta-analysis"
   ]
  },
  {
   "cell_type": "markdown",
   "metadata": {
    "slideshow": {
     "slide_type": "slide"
    }
   },
   "source": [
    "## I/O in bioinformatics is hard"
   ]
  },
  {
   "cell_type": "markdown",
   "metadata": {
    "slideshow": {
     "slide_type": "fragment"
    }
   },
   "source": [
    "- format redundancy (many-to-many)"
   ]
  },
  {
   "cell_type": "markdown",
   "metadata": {
    "slideshow": {
     "slide_type": "fragment"
    }
   },
   "source": [
    "- format ambiguity"
   ]
  },
  {
   "cell_type": "markdown",
   "metadata": {
    "slideshow": {
     "slide_type": "fragment"
    }
   },
   "source": [
    "- heterogeneous sources"
   ]
  },
  {
   "cell_type": "markdown",
   "metadata": {
    "slideshow": {
     "slide_type": "slide"
    }
   },
   "source": [
    "## Format redundancy (many-to-many)"
   ]
  },
  {
   "cell_type": "code",
   "execution_count": null,
   "metadata": {
    "collapsed": false
   },
   "outputs": [],
   "source": [
    "from skbio import DNA\n",
    "\n",
    "seq1 = DNA.read('data/seqs.fasta', qual='data/seqs.qual')\n",
    "seq2 = DNA.read('data/seqs.fastq', variant='illumina1.8')\n",
    "seq1"
   ]
  },
  {
   "cell_type": "code",
   "execution_count": null,
   "metadata": {
    "collapsed": false,
    "slideshow": {
     "slide_type": "-"
    }
   },
   "outputs": [],
   "source": [
    "seq1 == seq2"
   ]
  },
  {
   "cell_type": "markdown",
   "metadata": {
    "slideshow": {
     "slide_type": "slide"
    }
   },
   "source": [
    "## Format ambiguity"
   ]
  },
  {
   "cell_type": "code",
   "execution_count": null,
   "metadata": {
    "collapsed": false,
    "slideshow": {
     "slide_type": "-"
    }
   },
   "outputs": [],
   "source": [
    "import skbio.io\n",
    "\n",
    "skbio.io.sniff('data/mystery_file.bz2')"
   ]
  },
  {
   "cell_type": "markdown",
   "metadata": {
    "slideshow": {
     "slide_type": "slide"
    }
   },
   "source": [
    "## Heterogeneous sources"
   ]
  },
  {
   "cell_type": "markdown",
   "metadata": {
    "slideshow": {
     "slide_type": "-"
    }
   },
   "source": [
    "#### Read a gzip file from a URL:"
   ]
  },
  {
   "cell_type": "code",
   "execution_count": null,
   "metadata": {
    "collapsed": false,
    "slideshow": {
     "slide_type": "-"
    }
   },
   "outputs": [],
   "source": [
    "from skbio import TreeNode\n",
    "\n",
    "tree1 = skbio.io.read('http://localhost:8888/files/data/newick.gz', \n",
    "                      into=TreeNode)\n",
    "print(tree1.ascii_art())"
   ]
  },
  {
   "cell_type": "markdown",
   "metadata": {
    "slideshow": {
     "slide_type": "slide"
    }
   },
   "source": [
    "## We are in beta - should you even use our software?"
   ]
  },
  {
   "cell_type": "markdown",
   "metadata": {
    "slideshow": {
     "slide_type": "fragment"
    }
   },
   "source": [
    "#YES!"
   ]
  },
  {
   "cell_type": "markdown",
   "metadata": {
    "slideshow": {
     "slide_type": "subslide"
    }
   },
   "source": [
    "## API Lifecycle\n",
    "![](assets/stability-state-diagram.svg)\n"
   ]
  },
  {
   "cell_type": "markdown",
   "metadata": {
    "slideshow": {
     "slide_type": "subslide"
    }
   },
   "source": [
    "### What is stable:\n",
    "\n",
    "- `skbio.io` \n",
    "- `skbio.sequence`\n",
    "\n",
    "&nbsp;\n",
    "&nbsp;\n",
    "###What is next:\n",
    "\n",
    "- `skbio.alignment`\n",
    "- `skbio.tree`\n",
    "- `skbio.diversity`\n",
    "- `skbio.stats`\n",
    "- &lt;`your awesome subpackage!`&gt;"
   ]
  },
  {
   "cell_type": "markdown",
   "metadata": {
    "slideshow": {
     "slide_type": "slide"
    }
   },
   "source": [
    "## Sequence API: putting the *scikit* in scikit-bio"
   ]
  },
  {
   "cell_type": "code",
   "execution_count": null,
   "metadata": {
    "collapsed": false,
    "slideshow": {
     "slide_type": "-"
    }
   },
   "outputs": [],
   "source": [
    "seq = DNA(\"ACGTCCAGGTACCAGGTACCacgtacgtacgtacgtGTTTTACTGACGCAGGACGTACggggacaccgac\", lowercase='exon')\n",
    "seq"
   ]
  },
  {
   "cell_type": "markdown",
   "metadata": {
    "slideshow": {
     "slide_type": "subslide"
    }
   },
   "source": [
    "## Made with numpy"
   ]
  },
  {
   "cell_type": "code",
   "execution_count": null,
   "metadata": {
    "collapsed": false,
    "slideshow": {
     "slide_type": "-"
    }
   },
   "outputs": [],
   "source": [
    "seq.values"
   ]
  },
  {
   "cell_type": "markdown",
   "metadata": {
    "slideshow": {
     "slide_type": "subslide"
    }
   },
   "source": [
    "## And a pinch of pandas"
   ]
  },
  {
   "cell_type": "code",
   "execution_count": null,
   "metadata": {
    "collapsed": false,
    "slideshow": {
     "slide_type": "-"
    }
   },
   "outputs": [],
   "source": [
    "seq.positional_metadata"
   ]
  },
  {
   "cell_type": "markdown",
   "metadata": {
    "slideshow": {
     "slide_type": "subslide"
    }
   },
   "source": [
    "## Slicing with positional metadata:"
   ]
  },
  {
   "cell_type": "code",
   "execution_count": null,
   "metadata": {
    "collapsed": false,
    "slideshow": {
     "slide_type": "-"
    }
   },
   "outputs": [],
   "source": [
    "seq[seq.positional_metadata['exon']]"
   ]
  },
  {
   "cell_type": "markdown",
   "metadata": {
    "slideshow": {
     "slide_type": "slide"
    }
   },
   "source": [
    "# Many other mature scientific computing tools"
   ]
  },
  {
   "cell_type": "markdown",
   "metadata": {
    "slideshow": {
     "slide_type": "fragment"
    }
   },
   "source": [
    "* Beautiful visualizations with seaborn"
   ]
  },
  {
   "cell_type": "markdown",
   "metadata": {
    "slideshow": {
     "slide_type": "fragment"
    }
   },
   "source": [
    "* Powerful machine learning and optimization with scikit-learn"
   ]
  },
  {
   "cell_type": "markdown",
   "metadata": {
    "slideshow": {
     "slide_type": "fragment"
    }
   },
   "source": [
    "* Fast sequence collapsing with marisa-trie and related packages"
   ]
  },
  {
   "cell_type": "markdown",
   "metadata": {
    "slideshow": {
     "slide_type": "fragment"
    }
   },
   "source": [
    "* Statistical modeling with Stats.Models"
   ]
  },
  {
   "cell_type": "markdown",
   "metadata": {
    "slideshow": {
     "slide_type": "slide"
    }
   },
   "source": [
    "## Example: building a better taxonomy classifier in under 100 lines of code"
   ]
  },
  {
   "cell_type": "code",
   "execution_count": null,
   "metadata": {
    "collapsed": true
   },
   "outputs": [],
   "source": [
    "from skbio import DNA\n",
    "import numpy as np\n",
    "import skbio\n",
    "\n",
    "## Load Greengenes and slice all sequences to the region \n",
    "## amplified by 515F/806R. \n",
    "\n",
    "aligned_seqs_fp = 'data/gg_13_8_otus/rep_set_aligned/82_otus.fasta'\n",
    "taxonomy_fp = 'data/gg_13_8_otus/taxonomy/82_otu_taxonomy.txt'\n",
    "\n",
    "\n",
    "fwd_primer = DNA(\"GTGCCAGCMGCCGCGGTAA\",\n",
    "                 metadata={'label':'fwd-primer'})\n",
    "rev_primer = DNA(\"GGACTACHVGGGTWTCTAAT\",\n",
    "                 metadata={'label':'rev-primer'}).reverse_complement()\n",
    "\n",
    "def seq_to_regex(seq):\n",
    "    result = []\n",
    "    for base in str(seq):\n",
    "        if base in DNA.degenerate_chars:\n",
    "            result.append('[{0}]'.format(\n",
    "                ''.join(DNA.degenerate_map[base])))\n",
    "        else:\n",
    "            result.append(base)\n",
    "\n",
    "    return ''.join(result)\n",
    "\n",
    "regex = '({0}.*{1})'.format(seq_to_regex(fwd_primer),\n",
    "                            seq_to_regex(rev_primer))\n",
    "\n",
    "starts = []\n",
    "stops = []\n",
    "for seq in skbio.io.read(aligned_seqs_fp, format='fasta', \n",
    "                         constructor=DNA):\n",
    "    for match in seq.find_with_regex(regex, ignore=seq.gaps()):\n",
    "        starts.append(match.start)\n",
    "        stops.append(match.stop)\n",
    "        \n",
    "locus = slice(int(np.median(starts)), int(np.median(stops)))\n",
    "\n",
    "## Get all kmers for all sequences.\n",
    "kmer_counts = []\n",
    "seq_ids = []\n",
    "for seq in skbio.io.read(aligned_seqs_fp, format='fasta',\n",
    "                         constructor=DNA):\n",
    "    seq_ids.append(seq.metadata['id'])\n",
    "    sliced_seq = seq[locus].degap()\n",
    "    kmer_counts.append(sliced_seq.kmer_frequencies(8))\n",
    "    \n",
    "    \n",
    "## Load the training/test data, perform feature selection, and train \n",
    "## and test the classifier using cross-validation.\n",
    "from sklearn.feature_extraction import DictVectorizer\n",
    "from sklearn.feature_selection import SelectPercentile\n",
    "from sklearn.svm import SVC\n",
    "from sklearn.cross_validation import train_test_split\n",
    "\n",
    "X = DictVectorizer().fit_transform(kmer_counts)\n",
    "\n",
    "taxonomy_level = 3 # class\n",
    "id_to_taxon = {}\n",
    "with open(taxonomy_fp) as f:\n",
    "    for line in f:\n",
    "       id_, taxon = line.strip().split('\\t')\n",
    "       id_to_taxon[id_] = '; '.join(taxon.split('; ')[:taxonomy_level])\n",
    "\n",
    "y = [id_to_taxon[seq_id] for seq_id in seq_ids]\n",
    "\n",
    "X = SelectPercentile().fit_transform(X, y)\n",
    "X_train, X_test, y_train, y_test = train_test_split(X, y,\n",
    "                                                    random_state=0)\n",
    "y_pred = SVC(C=10, kernel='linear', degree=3,\n",
    "             gamma=0.001).fit(X_train, y_train).predict(X_test)\n",
    "\n",
    "## Define a function to use for plotting. \n",
    "%matplotlib inline\n",
    "import matplotlib.pyplot as plt\n",
    "\n",
    "def plot_confusion_matrix(cm, title='Confusion matrix', cmap=plt.cm.Blues):\n",
    "    plt.figure()\n",
    "    plt.imshow(cm, interpolation='nearest', cmap=cmap)\n",
    "    plt.title(title)\n",
    "    plt.colorbar()\n",
    "    plt.ylabel('Known taxonomy')\n",
    "    plt.xlabel('Predicted taxonomy')\n",
    "    plt.tight_layout()\n",
    "    plt.show()"
   ]
  },
  {
   "cell_type": "code",
   "execution_count": null,
   "metadata": {
    "collapsed": false,
    "slideshow": {
     "slide_type": "subslide"
    }
   },
   "outputs": [],
   "source": [
    "from sklearn.metrics import confusion_matrix, f1_score\n",
    "\n",
    "cm = confusion_matrix(y_test, y_pred)\n",
    "cm_normalized = cm / cm.sum(axis=1)[:, np.newaxis]\n",
    "plot_confusion_matrix(cm_normalized, title='Normalized confusion matrix')\n",
    "\n",
    "print(\"F-score: %1.3f\" % f1_score(y_test, y_pred, average='micro'))"
   ]
  },
  {
   "cell_type": "markdown",
   "metadata": {
    "slideshow": {
     "slide_type": "slide"
    }
   },
   "source": [
    "## Support Vector Machine genus classifier\n",
    "\n",
    "![](./svc-genus.png)"
   ]
  },
  {
   "cell_type": "markdown",
   "metadata": {
    "slideshow": {
     "slide_type": "slide"
    }
   },
   "source": [
    "## Naive Bayes genus classifier\n",
    "\n",
    "![](./naive-bayes-genus.png)"
   ]
  },
  {
   "cell_type": "markdown",
   "metadata": {
    "slideshow": {
     "slide_type": "slide"
    }
   },
   "source": [
    "# QIIME 2"
   ]
  },
  {
   "cell_type": "markdown",
   "metadata": {
    "slideshow": {
     "slide_type": "fragment"
    }
   },
   "source": [
    "Self-documenting analyses simplify bioinformatics methods reporting, and therefore reproducibility and transparancy."
   ]
  },
  {
   "cell_type": "markdown",
   "metadata": {
    "slideshow": {
     "slide_type": "fragment"
    }
   },
   "source": [
    "Stable, documented API enables integration with other platforms (e.g., Illumina Basespace) and plugin development."
   ]
  },
  {
   "cell_type": "markdown",
   "metadata": {
    "slideshow": {
     "slide_type": "fragment"
    }
   },
   "source": [
    "Many ongoing method benchmarks will inform core methods, e.g.,\n",
    " * \"OTU-free\" analyses\n",
    " * improved taxonomic classification\n",
    " * diverse machine learning approaches for sequence and sample classification"
   ]
  },
  {
   "cell_type": "markdown",
   "metadata": {
    "slideshow": {
     "slide_type": "fragment"
    }
   },
   "source": [
    "Easier parallel deployment with the IPython parallel framework"
   ]
  }
 ],
 "metadata": {
  "celltoolbar": "Slideshow",
  "kernelspec": {
   "display_name": "Python 3",
   "language": "python",
   "name": "python3"
  },
  "language_info": {
   "codemirror_mode": {
    "name": "ipython",
    "version": 3
   },
   "file_extension": ".py",
   "mimetype": "text/x-python",
   "name": "python",
   "nbconvert_exporter": "python",
   "pygments_lexer": "ipython3",
   "version": "3.4.3"
  }
 },
 "nbformat": 4,
 "nbformat_minor": 0
}
